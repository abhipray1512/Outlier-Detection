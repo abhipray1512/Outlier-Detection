{
 "cells": [
  {
   "cell_type": "code",
   "execution_count": 4,
   "id": "e3b7e8ba",
   "metadata": {},
   "outputs": [],
   "source": [
    "import pdfplumber"
   ]
  },
  {
   "cell_type": "code",
   "execution_count": 5,
   "id": "a7c04cd8",
   "metadata": {},
   "outputs": [],
   "source": [
    "pdf =  pdfplumber.open(\"C:/Users/AI03653/OneDrive - Anthem/Desktop/Data_extraction/icd10cm-tabular-2022-April-1 (1).pdf\")"
   ]
  },
  {
   "cell_type": "code",
   "execution_count": 6,
   "id": "14febae7",
   "metadata": {},
   "outputs": [],
   "source": [
    "# page = pdf.pages[6]\n",
    "# print(page.extract_text())\n",
    "# # page = \"\"\n",
    "# # for i in range(4,36):\n",
    "# #     page = page + pdf.pages[i].extract_text()"
   ]
  },
  {
   "cell_type": "code",
   "execution_count": 7,
   "id": "ddda2ebc",
   "metadata": {},
   "outputs": [],
   "source": [
    "# text = page.extract_text()"
   ]
  },
  {
   "cell_type": "code",
   "execution_count": 8,
   "id": "4c29376b",
   "metadata": {},
   "outputs": [],
   "source": [
    "# print(text)"
   ]
  },
  {
   "cell_type": "code",
   "execution_count": 9,
   "id": "c570748d",
   "metadata": {},
   "outputs": [],
   "source": [
    "# print(text.split(\"\\n\"))"
   ]
  },
  {
   "cell_type": "code",
   "execution_count": 10,
   "id": "76b54a03",
   "metadata": {},
   "outputs": [],
   "source": [
    "# for pdf_page in pdf.pages:\n",
    "# \twords           = pdf_page.extract_words(x_tolerance=3, y_tolerance=10, extra_attrs=['fontname'])\n",
    "# \tfor word in words: \n",
    "# \t\tif 'Bold' in word['fontname']:\n",
    "# \t\t\tprint(word.text)"
   ]
  },
  {
   "cell_type": "code",
   "execution_count": 11,
   "id": "f596c88d",
   "metadata": {},
   "outputs": [],
   "source": [
    "import re"
   ]
  },
  {
   "cell_type": "code",
   "execution_count": 12,
   "id": "0a33b9f4",
   "metadata": {},
   "outputs": [],
   "source": [
    "# clean_text = page.filter(lambda obj: obj[\"object_type\"] == \"char\" and \"Bold\" in obj[\"fontname\"])\n",
    "# print(clean_text.extract_text())\n",
    "# # clean_text.extract_text() - consists of all the bold text in the selected page as a string"
   ]
  },
  {
   "cell_type": "code",
   "execution_count": 13,
   "id": "e1d51e72",
   "metadata": {},
   "outputs": [],
   "source": [
    "# bold_text = clean_text.extract_text()\n",
    "# bold_text_list = bold_text.split('\\n')\n",
    "# print(bold_text_list)\n",
    "\n",
    "# # print(type(bold_text))\n",
    "# Excludes_indices = [m.start() for m in re.finditer('Excludes1:', page.extract_text())]\n",
    "# print(Excludes_indices)\n",
    "\n",
    "# # str = \"Excludes1: \"\n",
    "# # index_list = []\n",
    "# # temp = 0\n",
    "# # for line in bold_text_list:\n",
    "# #     if line == str:\n",
    "# #         index_list.append(temp)\n",
    "# #     temp=temp+1\n",
    "\n",
    "\n",
    "    \n",
    "    \n",
    "    \n",
    "# # for i in range(len(index_list)):\n",
    "# #     index_list[i] = index_list[i]-1\n",
    "    \n",
    "# # after_excludes = []\n",
    "# # for i in range(len(index_list)):\n",
    "# #     after_excludes.append(index_list[i]-2)\n",
    "\n",
    "# # print(after_excludes)\n",
    "# # print(index_list)\n",
    "\n",
    "# #index_list contains all last bold text(line) prior to the Excludes1: "
   ]
  },
  {
   "cell_type": "code",
   "execution_count": 14,
   "id": "af824044",
   "metadata": {},
   "outputs": [],
   "source": [
    "# print(bold_text[24])\n",
    "# print(type(Excludes_indices[0]))"
   ]
  },
  {
   "cell_type": "code",
   "execution_count": 15,
   "id": "46ab411b",
   "metadata": {},
   "outputs": [],
   "source": [
    "# bold_text[23] == '\\n'"
   ]
  },
  {
   "cell_type": "code",
   "execution_count": 16,
   "id": "7671f2a4",
   "metadata": {},
   "outputs": [],
   "source": [
    "# ans = []\n",
    "\n",
    "# for i in Excludes_indices:\n",
    "    \n",
    "#     idx = i\n",
    "#     idx = idx - 1\n",
    "#     while(bold_text[idx]!='\\n' or bold_text[idx+1]!='A'):\n",
    "#         idx = idx-1\n",
    "#     start = idx+1\n",
    "#     idx = idx+2\n",
    "#     while((bold_text[idx]>='0' and bold_text[idx]<='9') or bold_text[idx]=='.'):\n",
    "#         idx = idx+1\n",
    "#     parent_code = bold_text[start:idx+1]\n",
    "#     ans.append(parent_code)\n",
    "    "
   ]
  },
  {
   "cell_type": "code",
   "execution_count": 17,
   "id": "1e7776de",
   "metadata": {},
   "outputs": [],
   "source": [
    "# print(ans)"
   ]
  },
  {
   "cell_type": "code",
   "execution_count": 18,
   "id": "4facd54f",
   "metadata": {},
   "outputs": [],
   "source": [
    "# #Extraction algorithm idea 1\n",
    "# #Straight string traversal\n",
    "\n",
    "# for i in range(4,1977):\n",
    "#     page = pdf.pages[i]\n",
    "#     text = page.extract_text()\n",
    "#     clean_text = page.filter(lambda obj: obj[\"object_type\"] == \"char\" and \"Bold\" in obj[\"fontname\"])\n",
    "#     #     print(clean_text.extract_text())\n",
    "#     bold_text = clean_text.extract_text()\n",
    "    \n",
    "#         # print(type(bold_text))\n",
    "#     Excludes_indices = [m.start() for m in re.finditer('Excludes1:', bold_text)]\n",
    "#     #     print(Excludes_indices)\n",
    "#     ans = []\n",
    "    \n",
    "#     for j in Excludes_indices:\n",
    "#         idx = j\n",
    "#         idx = idx - 1\n",
    "#         while(bold_text[idx]!='\\n' or bold_text[idx+1]!='A'):\n",
    "#             idx = idx-1\n",
    "#         start = idx+1\n",
    "#         idx = idx+2\n",
    "#         while((bold_text[idx]>='0' and bold_text[idx]<='9') or bold_text[idx]=='.'):\n",
    "#             idx = idx+1\n",
    "#         parent_code = bold_text[start:idx+1]\n",
    "#         ans.append(parent_code)\n",
    "#     print(ans)"
   ]
  },
  {
   "cell_type": "code",
   "execution_count": 19,
   "id": "954231c0",
   "metadata": {},
   "outputs": [],
   "source": [
    "#Extraction Algorithm idea 2\n",
    "# List method and Regex\n",
    "final_data = {}\n",
    "for k in range(4,1977):\n",
    "    page = pdf.pages[k]\n",
    "    \n",
    "    text = page.extract_text()\n",
    "#     print(text)\n",
    "#     text contains all the page contents in the form of a string\n",
    "    \n",
    "    \n",
    "    clean_text = page.filter(lambda obj: obj[\"object_type\"] == \"char\" and \"Bold\" in obj[\"fontname\"])\n",
    "#     print(clean_text.extract_text())\n",
    "    \n",
    "    \n",
    "    bold_text = clean_text.extract_text()\n",
    "    bold_text_list = bold_text.split('\\n')\n",
    "#     bold_text - contains all the bold tests in the page in form of a string\n",
    "    \n",
    "    t = len(bold_text_list)-1\n",
    "    u = 1\n",
    "    while u and t:\n",
    "        for i in range(len(bold_text_list[t])):\n",
    "            if bold_text_list[t][i]!=' ':\n",
    "                u=0\n",
    "                break\n",
    "        t = t-1\n",
    "        if u:\n",
    "            bold_text_list.pop()\n",
    "#     popping up all the empty strings from the end of the list bold_text_list\n",
    "\n",
    "#     print(bold_text_list)\n",
    "    \n",
    "    Excludes_indices = [m.start() for m in re.finditer('Excludes1:', text)]\n",
    "#     Excudes_indices - contains the starting indices of all the Excludes1: within the text.\n",
    "    \n",
    "    \n",
    "    str = \"Excludes1: \"\n",
    "    index_list = []\n",
    "    temp = 0\n",
    "    for line in bold_text_list:\n",
    "        if line == str:\n",
    "            index_list.append(temp)\n",
    "        temp=temp+1   \n",
    "#     index_list contains the list of indices of all \"Excludes1: \" within the bold_text_list\n",
    "    \n",
    "#     *********************************************Extraction code for second action item**********************************/\n",
    "    action_item_second = []\n",
    "    j = 0\n",
    "    for i in index_list:\n",
    "        start_idx = Excludes_indices[j]\n",
    "        j = j+1\n",
    "        temp_text = text[start_idx:]\n",
    "        after_excludes = \"\"\n",
    "        if i==len(bold_text_list)-1:\n",
    "            after_excludes = temp_text\n",
    "        else:\n",
    "            nxt = bold_text_list[i+1]\n",
    "            end_idx = temp_text.find(nxt)+start_idx\n",
    "            after_excludes = text[start_idx:end_idx]\n",
    "        \n",
    "        \n",
    "        result = re.findall('\\(.*?\\)', after_excludes)\n",
    "        \n",
    "        for p in range(len(result)):\n",
    "            result[p] = result[p][1:len(result[p])-1]\n",
    "        action_item_second.append(result)\n",
    "#     **********************************************This is the extrcation code for second action item*********************/       \n",
    "    \n",
    "    def desired(str):\n",
    "        matched = re.match(\"^[A-Z][0-9][0-9]+.*\",str)\n",
    "        return bool(matched)\n",
    "        \n",
    "#     Extraction code for first action item\n",
    "    action_item_first = []\n",
    "    for i in index_list:\n",
    "        str = \"\"\n",
    "        if i==0:\n",
    "            action_item_first.append(str)\n",
    "        else:\n",
    "            w = i-1\n",
    "            while w>=0 and desired(bold_text_list[w])==0:\n",
    "                w=w-1\n",
    "            if w<0:\n",
    "                action_item_first.append(str)\n",
    "            else:\n",
    "                code_line = bold_text_list[w]\n",
    "                code_line_list = code_line.split(' ')\n",
    "                action_item_first.append(code_line_list[0])\n",
    "                \n",
    "#     --------Compiling both the action items into a dictionary---------------------------//\n",
    "    for i in range(len(action_item_first)):\n",
    "        final_data[action_item_first[i]] = action_item_second[i]\n",
    "    \n",
    "# print(final_data)"
   ]
  },
  {
   "cell_type": "code",
   "execution_count": null,
   "id": "1f44daa3",
   "metadata": {},
   "outputs": [],
   "source": [
    "import pandas as pd\n",
    "# print(final_data)"
   ]
  },
  {
   "cell_type": "code",
   "execution_count": 26,
   "id": "8ef96d88",
   "metadata": {},
   "outputs": [],
   "source": [
    "size = 0\n",
    "for value in final_data.values():\n",
    "    size = max(size,len(value))\n",
    "for key,value in final_data.items():\n",
    "    if len(value)<size:\n",
    "        buffer = size - len(value)\n",
    "        for i in range(buffer):\n",
    "            final_data[key].append(\" \")"
   ]
  },
  {
   "cell_type": "code",
   "execution_count": null,
   "id": "9543cf3d",
   "metadata": {},
   "outputs": [],
   "source": []
  },
  {
   "cell_type": "code",
   "execution_count": 27,
   "id": "52daf2cf",
   "metadata": {},
   "outputs": [],
   "source": [
    "compiled_dataframe = pd.DataFrame(final_data)\n"
   ]
  },
  {
   "cell_type": "code",
   "execution_count": 29,
   "id": "2fe20dc4",
   "metadata": {},
   "outputs": [],
   "source": [
    "compiled_dataframe.T.to_excel(\"pdf_extraction.xlsx\")"
   ]
  },
  {
   "cell_type": "code",
   "execution_count": null,
   "id": "67735773",
   "metadata": {},
   "outputs": [],
   "source": []
  }
 ],
 "metadata": {
  "kernelspec": {
   "display_name": "Python 3",
   "language": "python",
   "name": "python3"
  },
  "language_info": {
   "codemirror_mode": {
    "name": "ipython",
    "version": 3
   },
   "file_extension": ".py",
   "mimetype": "text/x-python",
   "name": "python",
   "nbconvert_exporter": "python",
   "pygments_lexer": "ipython3",
   "version": "3.8.8"
  }
 },
 "nbformat": 4,
 "nbformat_minor": 5
}
